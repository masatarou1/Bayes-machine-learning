{
 "cells": [
  {
   "cell_type": "code",
   "execution_count": 7,
   "metadata": {},
   "outputs": [
    {
     "name": "stdout",
     "output_type": "stream",
     "text": [
      "w:  [2.30826805 3.32245598]\n",
      "b:  -4.0\n"
     ]
    }
   ],
   "source": [
    "import numpy as np\n",
    "\n",
    "\n",
    "class SimplePerceptron(object):\n",
    "    '''\n",
    "    単純パーセプトロン\n",
    "    '''\n",
    "    def __init__(self, input_dim):\n",
    "        self.input_dim = input_dim\n",
    "        self.w = np.random.normal(size = (input_dim, ))\n",
    "        self.b = 0.\n",
    "    \n",
    "    def forward(self, x):\n",
    "        y = step(np.matmul(self.w, x) + self.b)\n",
    "        return y\n",
    "    \n",
    "    def compute_deltas(self, x, t):\n",
    "        y = self.forward(x)\n",
    "        delta = y - t\n",
    "        dw = delta * x\n",
    "        db = delta\n",
    "        return dw, db\n",
    "    \n",
    "    \n",
    "    \n",
    "def step(x):\n",
    "    return 1 * (x > 0)\n",
    "    \n",
    "    \n",
    "if __name__ == '__main__':\n",
    "    \n",
    "    '''\n",
    "    1. データの準備\n",
    "    '''\n",
    "    d = 2 # 入力次元\n",
    "    N = 20 # 全データ数\n",
    "    \n",
    "    mean = 5\n",
    "    \n",
    "    x1 = np.random.randn(N//2, d) + np.array([0, 0])\n",
    "    x2 = np.random.randn(N//2, d) + np.array([mean, mean])\n",
    "    \n",
    "    t1 = np.zeros(N//2)\n",
    "    t2 = np.ones(N//2)\n",
    "    \n",
    "    x = np.concatenate((x1, x2), axis=0)\n",
    "    t = np.concatenate((t1, t2))\n",
    "    \n",
    "    \n",
    "    '''\n",
    "    2. モデルの構築\n",
    "    '''\n",
    "    model = SimplePerceptron(input_dim = d)\n",
    "    \n",
    "    \n",
    "    '''\n",
    "    3. モデルの学習\n",
    "    '''\n",
    "    def compute_loss(dw, db):\n",
    "        return all(dw == 0) * (db == 0)\n",
    "    \n",
    "    def train_step(x, t):\n",
    "        dw, db = model.compute_deltas(x, t)\n",
    "        loss = compute_loss(dw, db)\n",
    "        model.w = model.w - dw\n",
    "        model.b = model.b - db\n",
    "        return loss\n",
    "    \n",
    "    while True:\n",
    "        classified = True\n",
    "        for i in range(N):\n",
    "            loss = train_step(x[i], t[i])\n",
    "            classified *= loss\n",
    "        if classified:\n",
    "            break\n",
    "    \n",
    "    '''\n",
    "    4. モデルの評価\n",
    "    '''\n",
    "    print('w: ', model.w)\n",
    "    print('b: ', model.b)\n",
    "    \n",
    "    "
   ]
  },
  {
   "cell_type": "code",
   "execution_count": 8,
   "metadata": {},
   "outputs": [
    {
     "name": "stdout",
     "output_type": "stream",
     "text": [
      "(0, 0) => 0\n",
      "(5, 5) => 1\n"
     ]
    }
   ],
   "source": [
    "print('(0, 0) =>', model.forward([0, 0]))\n",
    "print('(5, 5) =>', model.forward([5, 5]))"
   ]
  },
  {
   "cell_type": "code",
   "execution_count": 28,
   "metadata": {},
   "outputs": [
    {
     "name": "stdout",
     "output_type": "stream",
     "text": [
      "[[ 0.58334992 -0.14564535]\n",
      " [ 0.98174735 -0.20106524]\n",
      " [-1.72185655  0.43029745]\n",
      " [ 0.48905859 -0.5539163 ]\n",
      " [-0.60050523  0.63806785]\n",
      " [-0.99950328  0.73225372]\n",
      " [-0.53430523 -0.90635034]\n",
      " [ 0.57436162 -0.07795496]\n",
      " [-0.31341198  1.20874051]\n",
      " [-0.08622735 -1.50749532]]\n",
      "[ 0.58334992  0.98174735 -1.72185655  0.48905859 -0.60050523 -0.99950328\n",
      " -0.53430523  0.57436162 -0.31341198 -0.08622735  2.32888191  4.908687\n",
      "  3.78072255  4.74655235  2.73095455  3.97573664  5.13188411  6.27345265\n",
      "  3.92705428  5.61508493]\n",
      "[-10  -9  -8  -7  -6  -5  -4  -3  -2  -1   0   1   2   3   4   5   6   7\n",
      "   8   9  10]\n"
     ]
    },
    {
     "data": {
      "image/png": "[encoded data removed]",
      "text/plain": [
       "<Figure size 432x288 with 1 Axes>"
      ]
     },
     "metadata": {
      "needs_background": "light"
     },
     "output_type": "display_data"
    }
   ],
   "source": [
    "import matplotlib.pyplot as plt\n",
    "\n",
    "print(x1)\n",
    "print(np.concatenate([x1, x2])[:, 0])\n",
    "print(np.arange(-10, 11))\n",
    "plt.scatter(np.arange(-10, 10), np.concatenate([x1, x2])[:, 0])\n",
    "plt.show()\n",
    "\n",
    "\n"
   ]
  },
  {
   "cell_type": "code",
   "execution_count": null,
   "metadata": {},
   "outputs": [],
   "source": []
  }
 ],
 "metadata": {
  "kernelspec": {
   "display_name": "Python 3",
   "language": "python",
   "name": "python3"
  },
  "language_info": {
   "codemirror_mode": {
    "name": "ipython",
    "version": 3
   },
   "file_extension": ".py",
   "mimetype": "text/x-python",
   "name": "python",
   "nbconvert_exporter": "python",
   "pygments_lexer": "ipython3",
   "version": "3.7.6"
  }
 },
 "nbformat": 4,
 "nbformat_minor": 4
}
