{
 "cells": [
  {
   "cell_type": "code",
   "execution_count": 31,
   "metadata": {},
   "outputs": [
    {
     "name": "stdout",
     "output_type": "stream",
     "text": [
      "[[1]\n",
      " [2]\n",
      " [3]\n",
      " [4]]\n"
     ]
    },
    {
     "data": {
      "text/plain": [
       "array([[ 2,  3],\n",
       "       [ 4,  6],\n",
       "       [ 6,  9],\n",
       "       [ 8, 12]])"
      ]
     },
     "execution_count": 31,
     "metadata": {},
     "output_type": "execute_result"
    }
   ],
   "source": [
    "import numpy as np\n",
    "\n",
    "print(np.array([1,2,3,4]).reshape(4,1))\n",
    "\n",
    "np.dot(np.array([1,2,3,4]).reshape(4,1), np.array([2,3]).reshape(1,2))"
   ]
  },
  {
   "cell_type": "code",
   "execution_count": 3,
   "metadata": {},
   "outputs": [],
   "source": [
    "import numpy as np\n",
    "import matplotlib.pyplot as plt\n",
    "%matplotlib inline\n",
    "\n",
    "# サンプルデータの作成\n",
    "Lambda_x1 = 30\n",
    "Lambda_x2 = 50\n",
    "samples_x1 = 300\n",
    "samples_x2 = 200\n",
    "x1 = np.random.poisson(Lambda_x1, samples_x1)\n",
    "x2 = np.random.poisson(Lambda_x2, samples_x2)\n",
    "\n",
    "X = np.concatenate([x1, x2])\n",
    "\n",
    "\n",
    "def log_sum_exp(X):\n",
    "    max_x = np.max(X, axis = 1).reshape(-1, 1)\n",
    "    return np.log(np.sum(np.exp(X - max_x), axis = 1).reshape(-1, 1)) + max_x\n",
    "\n",
    "# サンプリング用のリストを用意\n",
    "sample_s = []\n",
    "sample_lambda = []\n",
    "sample_pi = []\n",
    "\n",
    "\n",
    "# 定数の設定(繰り返し数, サンプル数, クラスタ数)\n",
    "MAXITER = 100\n",
    "N = len(X)\n",
    "K = 2\n",
    "\n",
    "# パラメータ初期値\n",
    "\n",
    "init_Gam_param_a = 1\n",
    "init_Gam_param_b = 1\n",
    "init_Dir_alpha = np.ones(K)\n",
    "\n",
    "# λ, πの初期値設定\n",
    "Lambda = np.ones(K)\n",
    "Pi = np.ones(K)\n",
    "\n",
    "# πの条件に従って正規化(各値を合計値で割る)\n",
    "if np.sum(Pi) != 1:\n",
    "    Pi = Pi / np.sum(Pi)\n",
    "    \n",
    "# MAXITERの数だけ繰り返しサンプリング\n",
    "\n",
    "for i in range(MAXITER):\n",
    "    \n",
    "    # sのデータ下地を準備\n",
    "    s = np.zeros((N, K))\n",
    "    \n",
    "    # sをサンプルするためにηを算出\n",
    "    log_eta = np.dot(X.reshape(N, 1), np.log(Lambda.reshape(1, K))) - Lambda.reshape(1, K) + np.log(Pi.reshape(1, K))\n",
    "\n",
    "    # ηを正規化(logsumexp使ってオーバーフロー・アンダーフロー防ぐ)\n",
    "    logsumexp_eta = -1 * log_sum_exp(log_eta)\n",
    "    eta = np.exp(log_eta + logsumexp_eta)\n"
   ]
  },
  {
   "cell_type": "code",
   "execution_count": 22,
   "metadata": {},
   "outputs": [
    {
     "name": "stdout",
     "output_type": "stream",
     "text": [
      "[[10]\n",
      " [ 3]]\n",
      "[[ 0  0 -9]\n",
      " [-2 -1  0]]\n",
      "[[1.00000000e+00 1.00000000e+00 1.23409804e-04]\n",
      " [1.35335283e-01 3.67879441e-01 1.00000000e+00]]\n",
      "[2.00012341 1.50321472]\n",
      "[0.69320888 0.40760596]\n"
     ]
    },
    {
     "data": {
      "text/plain": [
       "array([[10.69320888],\n",
       "       [ 3.40760596]])"
      ]
     },
     "execution_count": 22,
     "metadata": {},
     "output_type": "execute_result"
    }
   ],
   "source": [
    "test = np.array([[10,10,1], [1,2,3]])\n",
    "max_x = np.max(test, axis =1).reshape(-1, 1)\n",
    "\n",
    "print(max_x)\n",
    "print(test - max_x)\n",
    "print(np.exp(test-max_x))\n",
    "print(np.sum(np.exp(test-max_x), axis = 1))\n",
    "print(np.log(np.sum(np.exp(test-max_x), axis = 1)))\n",
    "\n",
    "log_sum_exp(np.array([[10,10,1], [1,2,3]]))"
   ]
  },
  {
   "cell_type": "code",
   "execution_count": null,
   "metadata": {},
   "outputs": [],
   "source": []
  }
 ],
 "metadata": {
  "kernelspec": {
   "display_name": "Python 3",
   "language": "python",
   "name": "python3"
  },
  "language_info": {
   "codemirror_mode": {
    "name": "ipython",
    "version": 3
   },
   "file_extension": ".py",
   "mimetype": "text/x-python",
   "name": "python",
   "nbconvert_exporter": "python",
   "pygments_lexer": "ipython3",
   "version": "3.7.6"
  }
 },
 "nbformat": 4,
 "nbformat_minor": 4
}
